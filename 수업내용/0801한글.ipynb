{
  "cells": [
    {
      "cell_type": "code",
      "execution_count": 2,
      "metadata": {
        "colab": {
          "base_uri": "https://localhost:8080/"
        },
        "id": "YGIAmundeekl",
        "outputId": "d59df5fa-d554-4f7d-8e88-7970fa420a32"
      },
      "outputs": [
        {
          "name": "stdout",
          "output_type": "stream",
          "text": [
            "Looking in indexes: https://pypi.org/simple, https://us-python.pkg.dev/colab-wheels/public/simple/\n",
            "Collecting konlpy\n",
            "  Downloading konlpy-0.6.0-py2.py3-none-any.whl (19.4 MB)\n",
            "\u001b[K     |████████████████████████████████| 19.4 MB 1.1 MB/s \n",
            "\u001b[?25hCollecting JPype1>=0.7.0\n",
            "  Downloading JPype1-1.4.0-cp37-cp37m-manylinux_2_5_x86_64.manylinux1_x86_64.whl (453 kB)\n",
            "\u001b[K     |████████████████████████████████| 453 kB 47.8 MB/s \n",
            "\u001b[?25hRequirement already satisfied: numpy>=1.6 in /usr/local/lib/python3.7/dist-packages (from konlpy) (1.21.6)\n",
            "Requirement already satisfied: lxml>=4.1.0 in /usr/local/lib/python3.7/dist-packages (from konlpy) (4.2.6)\n",
            "Requirement already satisfied: typing-extensions in /usr/local/lib/python3.7/dist-packages (from JPype1>=0.7.0->konlpy) (4.1.1)\n",
            "Installing collected packages: JPype1, konlpy\n",
            "Successfully installed JPype1-1.4.0 konlpy-0.6.0\n"
          ]
        }
      ],
      "source": [
        "! pip install konlpy"
      ]
    },
    {
      "cell_type": "code",
      "execution_count": 3,
      "metadata": {
        "id": "S8gy2I5qejql"
      },
      "outputs": [],
      "source": [
        "import codecs\n",
        "with codecs.open('data2.txt', encoding='utf-8') as f:\n",
        "    data = [문장.split('\\t') for 문장 in f.read().splitlines()]\n",
        "    data = data[1:]"
      ]
    },
    {
      "cell_type": "code",
      "execution_count": 5,
      "metadata": {
        "id": "B1OvMSY6e8RO"
      },
      "outputs": [],
      "source": [
        "긍정문장_data = [문장[1] for 문장 in data if 문장[2] == '1']\n",
        "부정문장_data = [문장[1] for 문장 in data if 문장[2] == '0']"
      ]
    },
    {
      "cell_type": "code",
      "execution_count": 8,
      "metadata": {
        "colab": {
          "base_uri": "https://localhost:8080/"
        },
        "id": "D2zlV48sfmJv",
        "outputId": "449debcc-6139-4776-9bd8-4fd41b1955a0"
      },
      "outputs": [
        {
          "data": {
            "text/plain": [
              "(74827, 75173)"
            ]
          },
          "execution_count": 8,
          "metadata": {},
          "output_type": "execute_result"
        }
      ],
      "source": [
        "len(긍정문장_data), len(부정문장_data)"
      ]
    },
    {
      "cell_type": "code",
      "execution_count": 11,
      "metadata": {
        "colab": {
          "base_uri": "https://localhost:8080/"
        },
        "id": "Anw_PjHuhC0o",
        "outputId": "02354f2c-4f90-4f2f-b06d-5442ce553529"
      },
      "outputs": [
        {
          "data": {
            "text/plain": [
              "list"
            ]
          },
          "execution_count": 11,
          "metadata": {},
          "output_type": "execute_result"
        }
      ],
      "source": [
        "type(긍정문장_data)"
      ]
    },
    {
      "cell_type": "markdown",
      "metadata": {
        "id": "0WeRr2u7f2uG"
      },
      "source": [
        "데이터 전처리(단어 토큰 -> 형태소 토큰화)"
      ]
    },
    {
      "cell_type": "code",
      "execution_count": 15,
      "metadata": {
        "id": "N4RvcaZ-f1Xo"
      },
      "outputs": [],
      "source": [
        "from konlpy.tag import Okt\n",
        "from tqdm import tqdm #작업의 진행상황을 알려주는 패키지\n",
        "from nltk.util import ngrams\n",
        "tg = Okt()\n",
        "def tk_f(문장): #토큰화된 data는 튜플을 원소로 가지는 리스트 자료형이 된다. 이를 다시 문자열로 이루어진 데이터로 만들기 위한 함수\n",
        "    tk_d = ['/'.join(i) for i in tg.pos(문장)]\n",
        "    return tk_d"
      ]
    },
    {
      "cell_type": "code",
      "execution_count": 16,
      "metadata": {
        "colab": {
          "base_uri": "https://localhost:8080/"
        },
        "id": "Q7Dh7Bq2glK3",
        "outputId": "28b60b45-b53a-434b-ab56-106262da2a73"
      },
      "outputs": [
        {
          "data": {
            "text/plain": [
              "[('흠', 'Noun'),\n",
              " ('...', 'Punctuation'),\n",
              " ('포스터', 'Noun'),\n",
              " ('보고', 'Noun'),\n",
              " ('초딩', 'Noun'),\n",
              " ('영화', 'Noun'),\n",
              " ('줄', 'Noun'),\n",
              " ('....', 'Punctuation'),\n",
              " ('오버', 'Noun'),\n",
              " ('연기', 'Noun'),\n",
              " ('조차', 'Josa'),\n",
              " ('가볍지', 'Adjective'),\n",
              " ('않구나', 'Verb')]"
            ]
          },
          "execution_count": 16,
          "metadata": {},
          "output_type": "execute_result"
        }
      ],
      "source": [
        "tg.pos(긍정문장_data[0])"
      ]
    },
    {
      "cell_type": "code",
      "execution_count": 17,
      "metadata": {
        "colab": {
          "base_uri": "https://localhost:8080/"
        },
        "id": "TPPZykFRiGB_",
        "outputId": "e59a4442-36c0-44f6-a6c8-d256781f33d8"
      },
      "outputs": [
        {
          "data": {
            "text/plain": [
              "['흠/Noun',\n",
              " '.../Punctuation',\n",
              " '포스터/Noun',\n",
              " '보고/Noun',\n",
              " '초딩/Noun',\n",
              " '영화/Noun',\n",
              " '줄/Noun',\n",
              " '..../Punctuation',\n",
              " '오버/Noun',\n",
              " '연기/Noun',\n",
              " '조차/Josa',\n",
              " '가볍지/Adjective',\n",
              " '않구나/Verb']"
            ]
          },
          "execution_count": 17,
          "metadata": {},
          "output_type": "execute_result"
        }
      ],
      "source": [
        "tk_f(긍정문장_data[0])"
      ]
    },
    {
      "cell_type": "code",
      "execution_count": 18,
      "metadata": {
        "colab": {
          "base_uri": "https://localhost:8080/"
        },
        "id": "2mtxWXebiOJv",
        "outputId": "fc4f4de5-1137-46c0-9e95-b52305dc1b22"
      },
      "outputs": [
        {
          "name": "stderr",
          "output_type": "stream",
          "text": [
            "100%|██████████| 74827/74827 [04:53<00:00, 255.11it/s]\n"
          ]
        }
      ],
      "source": [
        "end_l = []\n",
        "for 문장 in tqdm(긍정문장_data):\n",
        "    tk_data = tk_f(문장)\n",
        "    bg = ngrams(tk_data, 2, pad_left=True, pad_right=True, left_pad_symbol='SS', right_pad_symbol = 'SE')\n",
        "    end_l += [t for t in bg]"
      ]
    },
    {
      "cell_type": "code",
      "execution_count": 19,
      "metadata": {
        "id": "7qyHiN9MiyDG"
      },
      "outputs": [],
      "source": [
        "from nltk import ConditionalFreqDist\n",
        "from nltk.probability import ConditionalProbDist, MLEProbDist\n",
        "cfd= ConditionalFreqDist(end_l)\n",
        "cpd = ConditionalProbDist(cfd, MLEProbDist)"
      ]
    },
    {
      "cell_type": "code",
      "execution_count": 28,
      "metadata": {
        "colab": {
          "base_uri": "https://localhost:8080/",
          "height": 35
        },
        "id": "uSdO_3g3jhKZ",
        "outputId": "4b2ffb5f-8872-48d8-d186-6383a7459494"
      },
      "outputs": [
        {
          "data": {
            "application/vnd.google.colaboratory.intrinsic+json": {
              "type": "string"
            },
            "text/plain": [
              "'파란만장한 복수 를 찍은건 가요 결국 .. 가족 을 관찰 해 줬다 선택 보다 재미 는 어떻 게 너무 재밌었어요 !'"
            ]
          },
          "execution_count": 28,
          "metadata": {},
          "output_type": "execute_result"
        }
      ],
      "source": [
        "st = 'SS'\n",
        "all_l = []\n",
        "import random\n",
        "#random.seed(2)\n",
        "while True:\n",
        "    st = cpd[st].generate()\n",
        "    if st=='SE':\n",
        "        break\n",
        "    d = st.split('/')[0]\n",
        "    all_l.append(d)\n",
        "n_data = ' '.join(all_l)\n",
        "\n",
        "n_data"
      ]
    },
    {
      "cell_type": "code",
      "execution_count": 30,
      "metadata": {
        "colab": {
          "base_uri": "https://localhost:8080/"
        },
        "id": "v_b1lgormUgA",
        "outputId": "60a69a09-a113-4496-f137-ffc4774883e9"
      },
      "outputs": [
        {
          "data": {
            "text/plain": [
              "{'Adjective': '형용사',\n",
              " 'Adverb': '부사',\n",
              " 'Alpha': '알파벳',\n",
              " 'Conjunction': '접속사',\n",
              " 'Determiner': '관형사',\n",
              " 'Eomi': '어미',\n",
              " 'Exclamation': '감탄사',\n",
              " 'Foreign': '외국어, 한자 및 기타기호',\n",
              " 'Hashtag': '트위터 해쉬태그',\n",
              " 'Josa': '조사',\n",
              " 'KoreanParticle': '(ex: ㅋㅋ)',\n",
              " 'Noun': '명사',\n",
              " 'Number': '숫자',\n",
              " 'PreEomi': '선어말어미',\n",
              " 'Punctuation': '구두점',\n",
              " 'ScreenName': '트위터 아이디',\n",
              " 'Suffix': '접미사',\n",
              " 'Unknown': '미등록어',\n",
              " 'Verb': '동사'}"
            ]
          },
          "execution_count": 30,
          "metadata": {},
          "output_type": "execute_result"
        }
      ],
      "source": [
        "tg.tagset"
      ]
    },
    {
      "cell_type": "code",
      "execution_count": 33,
      "metadata": {
        "id": "7KilIEtolBhf"
      },
      "outputs": [],
      "source": [
        "def 한글_정리_생성(c='SS', sd=8, cpd=cpd):\n",
        "    import random\n",
        "    random.seed(sd)\n",
        "    all_l=[]\n",
        "    while True:\n",
        "        w=cpd[c].generate()\n",
        "        if w=='SE':\n",
        "            break\n",
        "        w2=w.split('/')[0]\n",
        "        pos=w.split('/')[1]\n",
        "        \n",
        "        if c == 'SS':\n",
        "            all_l.append(w2.title())\n",
        "        \n",
        "        elif c in [\"'\", \"\\\"\", '(']:\n",
        "            all_l.append(w2)\n",
        "        #뒷글자가 아래의 문자로 시작한다면 그냥 넣음\n",
        "        elif w in [\"'\", \"\\'\", \",\", \".\", \")\", \":\", \";\", \"?\"]:\n",
        "            all_l.append(w2)\n",
        "        #조사, 구두점, 접미사 등의 단어는 바로 붙임\n",
        "        elif pos in ['Josa', 'Punctuation','Suffix']:\n",
        "            all_l.append(w2)\n",
        "        #특정 문자 또한 바로 붙임\n",
        "        elif w in ['임/Noun','것/Noun','는걸/Noun','릴때/Noun','되다/Verb']:\n",
        "            all_l.append(w2)\n",
        "        #그밖의 것들은 공백과 함께 넣어서 문장처럼 보이도록 한다.\n",
        "        else:\n",
        "            all_l.append(' '+w2)\n",
        "        #리스트에 append한 후 현재의 뒷글자를 앞글자로 바꾸어주고 while문 다시 시작\n",
        "        c=w\n",
        "    return ''.join(all_l)\n"
      ]
    },
    {
      "cell_type": "code",
      "execution_count": 34,
      "metadata": {
        "colab": {
          "base_uri": "https://localhost:8080/",
          "height": 54
        },
        "id": "6vL4Tnc-nSzo",
        "outputId": "e1d465e7-a63e-43c6-cbf6-867b2e73c34f"
      },
      "outputs": [
        {
          "data": {
            "application/vnd.google.colaboratory.intrinsic+json": {
              "type": "string"
            },
            "text/plain": [
              "'영상 진짜 웃기 기도하고 이제야 알았다니 떡잎부터 사소한것하나까지 알고있는 진실을 훔쳐 보고 다시 한번쯤 보면 공감이 넘 좋아요 아.. 인생을 감수 하는 대통령의 코믹 할 영화'"
            ]
          },
          "execution_count": 34,
          "metadata": {},
          "output_type": "execute_result"
        }
      ],
      "source": [
        "한글_정리_생성()"
      ]
    },
    {
      "cell_type": "code",
      "execution_count": null,
      "metadata": {
        "id": "4NEeKpirnwmX"
      },
      "outputs": [],
      "source": [
        "end_l_1 = []\n",
        "for 문장 in tqdm(부정문장_data):\n",
        "    tk_data = tk_f(문장)\n",
        "    bg = ngrams(tk_data, 2, pad_left=True, pad_right=True, left_pad_symbol='SS', right_pad_symbol = 'SE')\n",
        "    end_l_1 += [t for t in bg]"
      ]
    },
    {
      "cell_type": "code",
      "execution_count": null,
      "metadata": {
        "id": "53qmHXtLnuRw"
      },
      "outputs": [],
      "source": [
        "from nltk import ConditionalFreqDist\n",
        "from nltk.probability import ConditionalProbDist, MLEProbDist\n",
        "cfd1= ConditionalFreqDist(end_l_1)\n",
        "cpd1 = ConditionalProbDist(cfd1, MLEProbDist) \n",
        "#부정 문장 만든 것"
      ]
    },
    {
      "cell_type": "code",
      "execution_count": null,
      "metadata": {
        "id": "iMclcE3sn4-4"
      },
      "outputs": [],
      "source": [
        "한글_정리_생성(cpd=cpd1)"
      ]
    }
  ],
  "metadata": {
    "colab": {
      "collapsed_sections": [],
      "name": "0801한글.ipynb",
      "provenance": []
    },
    "kernelspec": {
      "display_name": "Python 3",
      "name": "python3"
    },
    "language_info": {
      "name": "python"
    }
  },
  "nbformat": 4,
  "nbformat_minor": 0
}
